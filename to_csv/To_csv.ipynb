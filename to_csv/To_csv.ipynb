{
 "cells": [
  {
   "cell_type": "code",
   "execution_count": 4,
   "id": "d030e065",
   "metadata": {},
   "outputs": [],
   "source": [
    "from nptdms import TdmsFile\n",
    "import os\n",
    "\n",
    "tdms_file = TdmsFile.read(\"h12_1.tdms\")"
   ]
  },
  {
   "cell_type": "code",
   "execution_count": 5,
   "id": "794eeae6",
   "metadata": {},
   "outputs": [],
   "source": [
    "all_groups = tdms_file.groups()"
   ]
  },
  {
   "cell_type": "code",
   "execution_count": 6,
   "id": "f3051ff7",
   "metadata": {},
   "outputs": [],
   "source": [
    "group_name=[]\n",
    "for group in tdms_file.groups():\n",
    "    group_name.append(group.name)"
   ]
  },
  {
   "cell_type": "code",
   "execution_count": 7,
   "id": "51e37e2c",
   "metadata": {},
   "outputs": [
    {
     "data": {
      "text/plain": [
       "['DPL', 'PL', 'BEP', 'HL', 'FL']"
      ]
     },
     "execution_count": 7,
     "metadata": {},
     "output_type": "execute_result"
    }
   ],
   "source": [
    "group_name"
   ]
  },
  {
   "cell_type": "code",
   "execution_count": 8,
   "id": "7afcd08f",
   "metadata": {},
   "outputs": [
    {
     "data": {
      "text/plain": [
       "[<TdmsGroup with path /'DPL'>,\n",
       " <TdmsGroup with path /'PL'>,\n",
       " <TdmsGroup with path /'BEP'>,\n",
       " <TdmsGroup with path /'HL'>,\n",
       " <TdmsGroup with path /'FL'>]"
      ]
     },
     "execution_count": 8,
     "metadata": {},
     "output_type": "execute_result"
    }
   ],
   "source": [
    "all_groups"
   ]
  },
  {
   "cell_type": "code",
   "execution_count": 9,
   "id": "94d9b769",
   "metadata": {},
   "outputs": [],
   "source": [
    "group = tdms_file[\"DPL\"]"
   ]
  },
  {
   "cell_type": "code",
   "execution_count": 10,
   "id": "5ea4e8da",
   "metadata": {},
   "outputs": [
    {
     "data": {
      "text/plain": [
       "<TdmsGroup with path /'DPL'>"
      ]
     },
     "execution_count": 10,
     "metadata": {},
     "output_type": "execute_result"
    }
   ],
   "source": [
    "group"
   ]
  },
  {
   "cell_type": "code",
   "execution_count": 11,
   "id": "13325827",
   "metadata": {},
   "outputs": [],
   "source": [
    "all_group_channels = group.channels()"
   ]
  },
  {
   "cell_type": "code",
   "execution_count": 12,
   "id": "041b33e7",
   "metadata": {
    "scrolled": true
   },
   "outputs": [
    {
     "data": {
      "text/plain": [
       "[<TdmsChannel with path /'DPL'/'PIN1'>,\n",
       " <TdmsChannel with path /'DPL'/'PTC'>,\n",
       " <TdmsChannel with path /'DPL'/'PDT1'>,\n",
       " <TdmsChannel with path /'DPL'/'PDT2'>,\n",
       " <TdmsChannel with path /'DPL'/'PGV1'>,\n",
       " <TdmsChannel with path /'DPL'/'PGV2'>,\n",
       " <TdmsChannel with path /'DPL'/'PGV3'>,\n",
       " <TdmsChannel with path /'DPL'/'PDT3'>,\n",
       " <TdmsChannel with path /'DPL'/'PDT4'>,\n",
       " <TdmsChannel with path /'DPL'/'Patm'>,\n",
       " <TdmsChannel with path /'DPL'/'WTmp'>,\n",
       " <TdmsChannel with path /'DPL'/'rpm'>,\n",
       " <TdmsChannel with path /'DPL'/'Speed'>,\n",
       " <TdmsChannel with path /'DPL'/'Flow'>,\n",
       " <TdmsChannel with path /'DPL'/'Thrust'>,\n",
       " <TdmsChannel with path /'DPL'/'GenTorque'>,\n",
       " <TdmsChannel with path /'DPL'/'FricTorque'>,\n",
       " <TdmsChannel with path /'DPL'/'Pin'>,\n",
       " <TdmsChannel with path /'DPL'/'Pdiff'>,\n",
       " <TdmsChannel with path /'DPL'/'GV'>,\n",
       " <TdmsChannel with path /'DPL'/'AGV'>,\n",
       " <TdmsChannel with path /'DPL'/'ATB1'>,\n",
       " <TdmsChannel with path /'DPL'/'ATB2'>]"
      ]
     },
     "execution_count": 12,
     "metadata": {},
     "output_type": "execute_result"
    }
   ],
   "source": [
    "all_group_channels"
   ]
  },
  {
   "cell_type": "code",
   "execution_count": 13,
   "id": "9da71ade",
   "metadata": {},
   "outputs": [
    {
     "name": "stdout",
     "output_type": "stream",
     "text": [
      "OrderedDict([('wf_start_time', numpy.datetime64('2020-11-06T08:42:56.383258')), ('wf_start_offset', 0.0), ('wf_increment', 0.0001953125), ('wf_samples', 2000), ('Bridge Configuration', 10182), ('Bridge Resistance', 350.0), ('NI_ChannelName', 'PIN1'), ('NI_UnitDescription', 'Volts/Volt'), ('unit_string', 'Volts/Volt'), ('Offset', -9.106345), ('Scale', 87172.19869), ('Sensor Producer', 'HKM375 7barsg'), ('Serial Number', '8344-6-21'), ('Type', 'Bridge')]) \n",
      "\n",
      "OrderedDict([('wf_start_time', numpy.datetime64('2020-11-06T08:42:56.383258')), ('wf_start_offset', 0.0), ('wf_increment', 0.0001953125), ('wf_samples', 2000), ('Bridge Configuration', 10182), ('Bridge Resistance', 350.0), ('NI_ChannelName', 'PTC'), ('NI_UnitDescription', 'Volts/Volt'), ('unit_string', 'Volts/Volt'), ('Offset', -13.879956), ('Scale', 86355.05636), ('Sensor Producer', 'HKM375 7barsg'), ('Serial Number', '8344-6-20'), ('Type', 'Bridge')]) \n",
      "\n",
      "OrderedDict([('wf_start_time', numpy.datetime64('2020-11-06T08:42:56.383258')), ('wf_start_offset', 0.0), ('wf_increment', 0.0001953125), ('wf_samples', 2000), ('Bridge Configuration', 10182), ('Bridge Resistance', 350.0), ('NI_ChannelName', 'PDT1'), ('NI_UnitDescription', 'Volts/Volt'), ('unit_string', 'Volts/Volt'), ('Offset', -9.24362), ('Scale', 24710.24924), ('Sensor Producer', 'HEM-375M 1,7 bara'), ('Serial Number', '6293-6A-408'), ('Type', 'Bridge')]) \n",
      "\n",
      "OrderedDict([('wf_start_time', numpy.datetime64('2020-11-06T08:42:56.383258')), ('wf_start_offset', 0.0), ('wf_increment', 0.0001953125), ('wf_samples', 2000), ('Bridge Configuration', 10182), ('Bridge Resistance', 350.0), ('NI_ChannelName', 'PDT2'), ('NI_UnitDescription', 'Volts/Volt'), ('unit_string', 'Volts/Volt'), ('Offset', -4.59069), ('Scale', 24706.72968), ('Sensor Producer', 'HEM-375M 1,7 bara'), ('Serial Number', '6293-6A-410'), ('Type', 'Bridge')]) \n",
      "\n",
      "OrderedDict([('wf_start_time', numpy.datetime64('2020-11-06T08:42:56.383258')), ('wf_start_offset', 0.0), ('wf_increment', 0.0001953125), ('wf_samples', 2000), ('Bridge Configuration', 10182), ('Bridge Resistance', 350.0), ('NI_ChannelName', 'PGV1'), ('NI_UnitDescription', 'Volts/Volt'), ('unit_string', 'Volts/Volt'), ('Offset', -442.561916), ('Scale', 36202.85756), ('Sensor Producer', 'XTE 190 3,5bara'), ('Serial Number', '8317-1-201'), ('Type', 'Bridge')]) \n",
      "\n",
      "OrderedDict([('wf_start_time', numpy.datetime64('2020-11-06T08:42:56.383258')), ('wf_start_offset', 0.0), ('wf_increment', 0.0001953125), ('wf_samples', 2000), ('Bridge Configuration', 10182), ('Bridge Resistance', 350.0), ('NI_ChannelName', 'PGV2'), ('NI_UnitDescription', 'Volts/Volt'), ('unit_string', 'Volts/Volt'), ('Offset', 7.372403), ('Scale', 34654.7951), ('Sensor Producer', 'XTE 190 3,5 bara'), ('Serial Number', '8317-1-202'), ('Type', 'Bridge')]) \n",
      "\n",
      "OrderedDict([('wf_start_time', numpy.datetime64('2020-11-06T08:42:56.383258')), ('wf_start_offset', 0.0), ('wf_increment', 0.0001953125), ('wf_samples', 2000), ('Bridge Configuration', 10182), ('Bridge Resistance', 350.0), ('NI_ChannelName', 'PGV3'), ('NI_UnitDescription', 'Volts/Volt'), ('unit_string', 'Volts/Volt'), ('Offset', -3.555755), ('Scale', 34835.26007), ('Sensor Producer', 'XTE 190 3,5 bara'), ('Serial Number', '8317-1-204'), ('Type', 'Bridge')]) \n",
      "\n",
      "OrderedDict([('wf_start_time', numpy.datetime64('2020-11-06T08:42:56.383258')), ('wf_start_offset', 0.0), ('wf_increment', 0.0001953125), ('wf_samples', 2000), ('Input Terminal Configuration', 10106), ('NI_ChannelName', 'PDT3'), ('NI_UnitDescription', 'Volts'), ('unit_string', 'Volts'), ('Offset', 0.0), ('Scale', 1.0), ('Sensor Producer', 'Kistler 701 A'), ('Serial Number', '1740580'), ('Type', 'Voltage')]) \n",
      "\n",
      "OrderedDict([('wf_start_time', numpy.datetime64('2020-11-06T08:42:56.383258')), ('wf_start_offset', 0.0), ('wf_increment', 0.0001953125), ('wf_samples', 2000), ('Input Terminal Configuration', 10106), ('NI_ChannelName', 'PDT4'), ('NI_UnitDescription', 'Volts'), ('unit_string', 'Volts'), ('Offset', 0.0), ('Scale', 1.0), ('Sensor Producer', 'Kistler 701 A'), ('Serial Number', '1740581'), ('Type', 'Voltage')]) \n",
      "\n",
      "OrderedDict([('wf_start_time', numpy.datetime64('2020-11-06T08:42:56.383258')), ('wf_start_offset', 0.0), ('wf_increment', 0.0001953125), ('wf_samples', 2000), ('Input Terminal Configuration', 10106), ('NI_ChannelName', 'Patm'), ('NI_UnitDescription', 'Volts'), ('unit_string', 'Volts'), ('Offset', 70.0), ('Scale', 5.0), ('Sensor Producer', 'Vaisala Barometer PTB220'), ('Serial Number', 'V4532-1'), ('Type', 'Voltage')]) \n",
      "\n",
      "OrderedDict([('wf_start_time', numpy.datetime64('2020-11-06T08:42:56.383272')), ('wf_start_offset', 0.0), ('wf_increment', 0.0001953125), ('wf_samples', 2000), ('Input Terminal Configuration', 10106), ('NI_ChannelName', 'WTmp'), ('NI_UnitDescription', 'Volts'), ('unit_string', 'Volts'), ('Offset', -24.7991), ('Scale', 12.4069), ('Sensor Producer', 'PT100'), ('Serial Number', 'IA-4514-3'), ('Type', 'Voltage')]) \n",
      "\n",
      "OrderedDict([('wf_start_time', numpy.datetime64('2020-11-06T08:42:56.383258')), ('wf_start_offset', 0.0), ('wf_increment', 0.0001953125), ('wf_samples', 2000), ('Input Terminal Configuration', 10106), ('NI_ChannelName', 'rpm'), ('NI_UnitDescription', 'Volts'), ('unit_string', 'Volts'), ('Offset', 0.0), ('Scale', 2.0021), ('Sensor Producer', 'Pepperl Fuchs FSS58'), ('Serial Number', '40000060010827'), ('Type', 'Voltage')]) \n",
      "\n",
      "OrderedDict([('wf_start_time', numpy.datetime64('2020-11-06T08:42:56.383258')), ('wf_start_offset', 0.0), ('wf_increment', 0.0001953125), ('wf_samples', 2000), ('Input Terminal Configuration', 10106), ('NI_ChannelName', 'Speed'), ('NI_UnitDescription', 'Volts'), ('unit_string', 'Volts'), ('Offset', 0.0), ('Scale', 1.0), ('Sensor Producer', 'Pepperl Fuchs FSS58'), ('Serial Number', '40000060010827'), ('Type', 'Voltage')]) \n",
      "\n",
      "OrderedDict([('wf_start_time', numpy.datetime64('2020-11-06T08:42:56.383286')), ('wf_start_offset', 0.0), ('wf_increment', 0.0001953125), ('wf_samples', 2000), ('Input Terminal Configuration', 10106), ('NI_ChannelName', 'Flow'), ('NI_UnitDescription', 'Volts'), ('unit_string', 'Volts'), ('Offset', -0.127571), ('Scale', 0.06354), ('Sensor Producer', 'Krohne Altoflux IFS 4000'), ('Serial Number', '4624-4(A94 12944)'), ('Type', 'Voltage')]) \n",
      "\n",
      "OrderedDict([('wf_start_time', numpy.datetime64('2020-11-06T08:42:56.383300')), ('wf_start_offset', 0.0), ('wf_increment', 0.0001953125), ('wf_samples', 2000), ('Input Terminal Configuration', 10106), ('NI_ChannelName', 'Thrust'), ('NI_UnitDescription', 'Volts'), ('unit_string', 'Volts'), ('Offset', -10.26), ('Scale', 4.1673), ('Sensor Producer', ''), ('Serial Number', ''), ('Type', 'Voltage')]) \n",
      "\n",
      "OrderedDict([('wf_start_time', numpy.datetime64('2020-11-06T08:42:56.383314')), ('wf_start_offset', 0.0), ('wf_increment', 0.0001953125), ('wf_samples', 2000), ('Input Terminal Configuration', 10106), ('NI_ChannelName', 'GenTorque'), ('NI_UnitDescription', 'Volts'), ('unit_string', 'Volts'), ('Offset', -200.8903), ('Scale', 182.067432), ('Sensor Producer', 'HBM Hottinger Z6FC3'), ('Serial Number', ''), ('Type', 'Voltage')]) \n",
      "\n",
      "OrderedDict([('wf_start_time', numpy.datetime64('2020-11-06T08:42:56.383328')), ('wf_start_offset', 0.0), ('wf_increment', 0.0001953125), ('wf_samples', 2000), ('Input Terminal Configuration', 10106), ('NI_ChannelName', 'FricTorque'), ('NI_UnitDescription', 'Volts'), ('unit_string', 'Volts'), ('Offset', -0.6912), ('Scale', 2.802), ('Sensor Producer', 'HBM Hottinger Z6FC3'), ('Serial Number', '30857590'), ('Type', 'Voltage')]) \n",
      "\n",
      "OrderedDict([('wf_start_time', numpy.datetime64('2020-11-06T08:42:56.383342')), ('wf_start_offset', 0.0), ('wf_increment', 0.0001953125), ('wf_samples', 2000), ('Input Terminal Configuration', 10106), ('NI_ChannelName', 'Pin'), ('NI_UnitDescription', 'Volts'), ('unit_string', 'Volts'), ('Offset', -124.779203), ('Scale', 62.56357), ('Sensor Producer', 'Unik 5000'), ('Serial Number', '5597152'), ('Type', 'Voltage')]) \n",
      "\n",
      "OrderedDict([('wf_start_time', numpy.datetime64('2020-11-06T08:42:56.383356')), ('wf_start_offset', 0.0), ('wf_increment', 0.0001953125), ('wf_samples', 2000), ('Input Terminal Configuration', 10106), ('NI_ChannelName', 'Pdiff'), ('NI_UnitDescription', 'Volts'), ('unit_string', 'Volts'), ('Offset', -100.003312), ('Scale', 50.045048), ('Sensor Producer', 'Fuji Electric'), ('Serial Number', 'AJP5195F'), ('Type', 'Voltage')]) \n",
      "\n",
      "OrderedDict([('wf_start_time', numpy.datetime64('2020-11-06T08:42:56.383258')), ('wf_start_offset', 0.0), ('wf_increment', 0.0001953125), ('wf_samples', 2000), ('Input Terminal Configuration', 10106), ('NI_ChannelName', 'GV'), ('NI_UnitDescription', 'Volts'), ('unit_string', 'Volts'), ('Offset', -10.760555), ('Scale', 5.641706), ('Sensor Producer', 'Pepperl Fuchs'), ('Serial Number', '40000060024009'), ('Type', 'Voltage')]) \n",
      "\n",
      "OrderedDict([('wf_start_time', numpy.datetime64('2020-11-06T08:42:56.383258')), ('wf_start_offset', 0.0), ('wf_increment', 0.0001953125), ('wf_samples', 2000), ('NI_ChannelName', 'AGV'), ('NI_UnitDescription', 'm/s^2'), ('unit_string', 'm/s^2'), ('NI_dBReference', 1.0), ('Sensitivity', 9.816), ('Sensitivity Units', 12509), ('Sensor Producer', 'Bruel&Kjær 4397'), ('Serial Number', '33992'), ('Type', 'Accelerometer'), ('Units', 12470)]) \n",
      "\n",
      "OrderedDict([('wf_start_time', numpy.datetime64('2020-11-06T08:42:56.383258')), ('wf_start_offset', 0.0), ('wf_increment', 0.0001953125), ('wf_samples', 2000), ('NI_ChannelName', 'ATB1'), ('NI_UnitDescription', 'm/s^2'), ('unit_string', 'm/s^2'), ('NI_dBReference', 1.0), ('Sensitivity', 9.816), ('Sensitivity Units', 12509), ('Sensor Producer', 'Bruel&Kjær 4397'), ('Serial Number', '33993'), ('Type', 'Accelerometer'), ('Units', 12470)]) \n",
      "\n",
      "OrderedDict([('wf_start_time', numpy.datetime64('2020-11-06T08:42:56.383258')), ('wf_start_offset', 0.0), ('wf_increment', 0.0001953125), ('wf_samples', 2000), ('NI_ChannelName', 'ATB2'), ('NI_UnitDescription', 'm/s^2'), ('unit_string', 'm/s^2'), ('NI_dBReference', 1.0), ('Sensitivity', 9.816), ('Sensitivity Units', 12509), ('Sensor Producer', 'Bruel&Kjær 4397'), ('Serial Number', '33990'), ('Type', 'Accelerometer'), ('Units', 12470)]) \n",
      "\n"
     ]
    }
   ],
   "source": [
    "for i in all_group_channels:\n",
    "    print(i.properties,\"\\n\")"
   ]
  },
  {
   "cell_type": "code",
   "execution_count": 14,
   "id": "98d01d9f",
   "metadata": {
    "scrolled": true
   },
   "outputs": [
    {
     "data": {
      "text/plain": [
       "OrderedDict([('wf_start_time', numpy.datetime64('2020-11-06T08:42:56.383258')),\n",
       "             ('wf_start_offset', 0.0),\n",
       "             ('wf_increment', 0.0001953125),\n",
       "             ('wf_samples', 2000),\n",
       "             ('NI_ChannelName', 'ATB2'),\n",
       "             ('NI_UnitDescription', 'm/s^2'),\n",
       "             ('unit_string', 'm/s^2'),\n",
       "             ('NI_dBReference', 1.0),\n",
       "             ('Sensitivity', 9.816),\n",
       "             ('Sensitivity Units', 12509),\n",
       "             ('Sensor Producer', 'Bruel&Kjær 4397'),\n",
       "             ('Serial Number', '33990'),\n",
       "             ('Type', 'Accelerometer'),\n",
       "             ('Units', 12470)])"
      ]
     },
     "execution_count": 14,
     "metadata": {},
     "output_type": "execute_result"
    }
   ],
   "source": [
    "i.properties"
   ]
  },
  {
   "cell_type": "code",
   "execution_count": 15,
   "id": "fb295f15",
   "metadata": {},
   "outputs": [],
   "source": [
    "import pandas as pd"
   ]
  },
  {
   "cell_type": "code",
   "execution_count": 16,
   "id": "e46f6852",
   "metadata": {},
   "outputs": [],
   "source": [
    "channels_name=[]\n",
    "for channel in group.channels():\n",
    "    channels_name.append(channel.name)"
   ]
  },
  {
   "cell_type": "code",
   "execution_count": 2,
   "id": "39955f00",
   "metadata": {},
   "outputs": [
    {
     "data": {
      "text/plain": [
       "[]"
      ]
     },
     "execution_count": 2,
     "metadata": {},
     "output_type": "execute_result"
    }
   ],
   "source": [
    "channels_name"
   ]
  },
  {
   "cell_type": "code",
   "execution_count": 17,
   "id": "c3e76875",
   "metadata": {},
   "outputs": [
    {
     "data": {
      "text/plain": [
       "odict_keys(['wf_start_time', 'wf_start_offset', 'wf_increment', 'wf_samples', 'NI_ChannelName', 'NI_UnitDescription', 'unit_string', 'NI_dBReference', 'Sensitivity', 'Sensitivity Units', 'Sensor Producer', 'Serial Number', 'Type', 'Units'])"
      ]
     },
     "execution_count": 17,
     "metadata": {},
     "output_type": "execute_result"
    }
   ],
   "source": [
    "i.properties.keys()"
   ]
  },
  {
   "cell_type": "code",
   "execution_count": 18,
   "id": "76d5873c",
   "metadata": {},
   "outputs": [
    {
     "data": {
      "text/plain": [
       "numpy.datetime64('2020-11-06T08:42:56.383258')"
      ]
     },
     "execution_count": 18,
     "metadata": {},
     "output_type": "execute_result"
    }
   ],
   "source": [
    "i.properties[\"wf_start_time\"]"
   ]
  },
  {
   "cell_type": "code",
   "execution_count": 19,
   "id": "ab567b8d",
   "metadata": {},
   "outputs": [],
   "source": [
    "new=pd.DataFrame(columns=[\"Properties\",\"Value\"])"
   ]
  },
  {
   "cell_type": "code",
   "execution_count": 20,
   "id": "e5059c4c",
   "metadata": {},
   "outputs": [],
   "source": [
    "#index=0\n",
    "keys_list=[]\n",
    "for j in i.properties.keys():\n",
    "    #index+=1\n",
    "    new.loc[len(new.index)] = [j,i.properties[j]]\n",
    "    keys_list.append(j)"
   ]
  },
  {
   "cell_type": "code",
   "execution_count": 21,
   "id": "86722188",
   "metadata": {},
   "outputs": [
    {
     "data": {
      "text/plain": [
       "['wf_start_time',\n",
       " 'wf_start_offset',\n",
       " 'wf_increment',\n",
       " 'wf_samples',\n",
       " 'NI_ChannelName',\n",
       " 'NI_UnitDescription',\n",
       " 'unit_string',\n",
       " 'NI_dBReference',\n",
       " 'Sensitivity',\n",
       " 'Sensitivity Units',\n",
       " 'Sensor Producer',\n",
       " 'Serial Number',\n",
       " 'Type',\n",
       " 'Units']"
      ]
     },
     "execution_count": 21,
     "metadata": {},
     "output_type": "execute_result"
    }
   ],
   "source": [
    "keys_list"
   ]
  },
  {
   "cell_type": "code",
   "execution_count": 22,
   "id": "1d293829",
   "metadata": {},
   "outputs": [
    {
     "data": {
      "text/html": [
       "<div>\n",
       "<style scoped>\n",
       "    .dataframe tbody tr th:only-of-type {\n",
       "        vertical-align: middle;\n",
       "    }\n",
       "\n",
       "    .dataframe tbody tr th {\n",
       "        vertical-align: top;\n",
       "    }\n",
       "\n",
       "    .dataframe thead th {\n",
       "        text-align: right;\n",
       "    }\n",
       "</style>\n",
       "<table border=\"1\" class=\"dataframe\">\n",
       "  <thead>\n",
       "    <tr style=\"text-align: right;\">\n",
       "      <th></th>\n",
       "      <th>Properties</th>\n",
       "      <th>Value</th>\n",
       "    </tr>\n",
       "  </thead>\n",
       "  <tbody>\n",
       "    <tr>\n",
       "      <th>0</th>\n",
       "      <td>wf_start_time</td>\n",
       "      <td>2020-11-06 08:42:56.383258</td>\n",
       "    </tr>\n",
       "    <tr>\n",
       "      <th>1</th>\n",
       "      <td>wf_start_offset</td>\n",
       "      <td>0.0</td>\n",
       "    </tr>\n",
       "    <tr>\n",
       "      <th>2</th>\n",
       "      <td>wf_increment</td>\n",
       "      <td>0.000195</td>\n",
       "    </tr>\n",
       "    <tr>\n",
       "      <th>3</th>\n",
       "      <td>wf_samples</td>\n",
       "      <td>2000</td>\n",
       "    </tr>\n",
       "    <tr>\n",
       "      <th>4</th>\n",
       "      <td>NI_ChannelName</td>\n",
       "      <td>ATB2</td>\n",
       "    </tr>\n",
       "    <tr>\n",
       "      <th>5</th>\n",
       "      <td>NI_UnitDescription</td>\n",
       "      <td>m/s^2</td>\n",
       "    </tr>\n",
       "    <tr>\n",
       "      <th>6</th>\n",
       "      <td>unit_string</td>\n",
       "      <td>m/s^2</td>\n",
       "    </tr>\n",
       "    <tr>\n",
       "      <th>7</th>\n",
       "      <td>NI_dBReference</td>\n",
       "      <td>1.0</td>\n",
       "    </tr>\n",
       "    <tr>\n",
       "      <th>8</th>\n",
       "      <td>Sensitivity</td>\n",
       "      <td>9.816</td>\n",
       "    </tr>\n",
       "    <tr>\n",
       "      <th>9</th>\n",
       "      <td>Sensitivity Units</td>\n",
       "      <td>12509</td>\n",
       "    </tr>\n",
       "    <tr>\n",
       "      <th>10</th>\n",
       "      <td>Sensor Producer</td>\n",
       "      <td>Bruel&amp;Kjær 4397</td>\n",
       "    </tr>\n",
       "    <tr>\n",
       "      <th>11</th>\n",
       "      <td>Serial Number</td>\n",
       "      <td>33990</td>\n",
       "    </tr>\n",
       "    <tr>\n",
       "      <th>12</th>\n",
       "      <td>Type</td>\n",
       "      <td>Accelerometer</td>\n",
       "    </tr>\n",
       "    <tr>\n",
       "      <th>13</th>\n",
       "      <td>Units</td>\n",
       "      <td>12470</td>\n",
       "    </tr>\n",
       "  </tbody>\n",
       "</table>\n",
       "</div>"
      ],
      "text/plain": [
       "            Properties                       Value\n",
       "0        wf_start_time  2020-11-06 08:42:56.383258\n",
       "1      wf_start_offset                         0.0\n",
       "2         wf_increment                    0.000195\n",
       "3           wf_samples                        2000\n",
       "4       NI_ChannelName                        ATB2\n",
       "5   NI_UnitDescription                       m/s^2\n",
       "6          unit_string                       m/s^2\n",
       "7       NI_dBReference                         1.0\n",
       "8          Sensitivity                       9.816\n",
       "9    Sensitivity Units                       12509\n",
       "10     Sensor Producer             Bruel&Kjær 4397\n",
       "11       Serial Number                       33990\n",
       "12                Type               Accelerometer\n",
       "13               Units                       12470"
      ]
     },
     "execution_count": 22,
     "metadata": {},
     "output_type": "execute_result"
    }
   ],
   "source": [
    "new"
   ]
  },
  {
   "cell_type": "code",
   "execution_count": 23,
   "id": "8aa37e85",
   "metadata": {},
   "outputs": [
    {
     "name": "stdout",
     "output_type": "stream",
     "text": [
      "wf_start_time\n",
      "wf_start_offset\n",
      "wf_increment\n",
      "wf_samples\n",
      "NI_ChannelName\n",
      "NI_UnitDescription\n",
      "unit_string\n",
      "NI_dBReference\n",
      "Sensitivity\n",
      "Sensitivity Units\n",
      "Sensor Producer\n",
      "Serial Number\n",
      "Type\n",
      "Units\n"
     ]
    }
   ],
   "source": [
    "for j in i.properties.keys():\n",
    "    print(j)"
   ]
  },
  {
   "cell_type": "code",
   "execution_count": 24,
   "id": "a24c2662",
   "metadata": {
    "scrolled": true
   },
   "outputs": [
    {
     "name": "stdout",
     "output_type": "stream",
     "text": [
      "['wf_start_time', 'wf_start_offset', 'wf_increment', 'wf_samples', 'Bridge Configuration', 'Bridge Resistance', 'NI_ChannelName', 'NI_UnitDescription', 'unit_string', 'Offset', 'Scale', 'Sensor Producer', 'Serial Number', 'Type']\n",
      "not_same\n",
      "['wf_start_time', 'wf_start_offset', 'wf_increment', 'wf_samples', 'Bridge Configuration', 'Bridge Resistance', 'NI_ChannelName', 'NI_UnitDescription', 'unit_string', 'Offset', 'Scale', 'Sensor Producer', 'Serial Number', 'Type']\n",
      "not_same\n",
      "['wf_start_time', 'wf_start_offset', 'wf_increment', 'wf_samples', 'Bridge Configuration', 'Bridge Resistance', 'NI_ChannelName', 'NI_UnitDescription', 'unit_string', 'Offset', 'Scale', 'Sensor Producer', 'Serial Number', 'Type']\n",
      "not_same\n",
      "['wf_start_time', 'wf_start_offset', 'wf_increment', 'wf_samples', 'Bridge Configuration', 'Bridge Resistance', 'NI_ChannelName', 'NI_UnitDescription', 'unit_string', 'Offset', 'Scale', 'Sensor Producer', 'Serial Number', 'Type']\n",
      "not_same\n",
      "['wf_start_time', 'wf_start_offset', 'wf_increment', 'wf_samples', 'Bridge Configuration', 'Bridge Resistance', 'NI_ChannelName', 'NI_UnitDescription', 'unit_string', 'Offset', 'Scale', 'Sensor Producer', 'Serial Number', 'Type']\n",
      "not_same\n",
      "['wf_start_time', 'wf_start_offset', 'wf_increment', 'wf_samples', 'Bridge Configuration', 'Bridge Resistance', 'NI_ChannelName', 'NI_UnitDescription', 'unit_string', 'Offset', 'Scale', 'Sensor Producer', 'Serial Number', 'Type']\n",
      "not_same\n",
      "['wf_start_time', 'wf_start_offset', 'wf_increment', 'wf_samples', 'Bridge Configuration', 'Bridge Resistance', 'NI_ChannelName', 'NI_UnitDescription', 'unit_string', 'Offset', 'Scale', 'Sensor Producer', 'Serial Number', 'Type']\n",
      "not_same\n",
      "['wf_start_time', 'wf_start_offset', 'wf_increment', 'wf_samples', 'Input Terminal Configuration', 'NI_ChannelName', 'NI_UnitDescription', 'unit_string', 'Offset', 'Scale', 'Sensor Producer', 'Serial Number', 'Type']\n",
      "not_same\n",
      "['wf_start_time', 'wf_start_offset', 'wf_increment', 'wf_samples', 'Input Terminal Configuration', 'NI_ChannelName', 'NI_UnitDescription', 'unit_string', 'Offset', 'Scale', 'Sensor Producer', 'Serial Number', 'Type']\n",
      "not_same\n",
      "['wf_start_time', 'wf_start_offset', 'wf_increment', 'wf_samples', 'Input Terminal Configuration', 'NI_ChannelName', 'NI_UnitDescription', 'unit_string', 'Offset', 'Scale', 'Sensor Producer', 'Serial Number', 'Type']\n",
      "not_same\n",
      "['wf_start_time', 'wf_start_offset', 'wf_increment', 'wf_samples', 'Input Terminal Configuration', 'NI_ChannelName', 'NI_UnitDescription', 'unit_string', 'Offset', 'Scale', 'Sensor Producer', 'Serial Number', 'Type']\n",
      "not_same\n",
      "['wf_start_time', 'wf_start_offset', 'wf_increment', 'wf_samples', 'Input Terminal Configuration', 'NI_ChannelName', 'NI_UnitDescription', 'unit_string', 'Offset', 'Scale', 'Sensor Producer', 'Serial Number', 'Type']\n",
      "not_same\n",
      "['wf_start_time', 'wf_start_offset', 'wf_increment', 'wf_samples', 'Input Terminal Configuration', 'NI_ChannelName', 'NI_UnitDescription', 'unit_string', 'Offset', 'Scale', 'Sensor Producer', 'Serial Number', 'Type']\n",
      "not_same\n",
      "['wf_start_time', 'wf_start_offset', 'wf_increment', 'wf_samples', 'Input Terminal Configuration', 'NI_ChannelName', 'NI_UnitDescription', 'unit_string', 'Offset', 'Scale', 'Sensor Producer', 'Serial Number', 'Type']\n",
      "not_same\n",
      "['wf_start_time', 'wf_start_offset', 'wf_increment', 'wf_samples', 'Input Terminal Configuration', 'NI_ChannelName', 'NI_UnitDescription', 'unit_string', 'Offset', 'Scale', 'Sensor Producer', 'Serial Number', 'Type']\n",
      "not_same\n",
      "['wf_start_time', 'wf_start_offset', 'wf_increment', 'wf_samples', 'Input Terminal Configuration', 'NI_ChannelName', 'NI_UnitDescription', 'unit_string', 'Offset', 'Scale', 'Sensor Producer', 'Serial Number', 'Type']\n",
      "not_same\n",
      "['wf_start_time', 'wf_start_offset', 'wf_increment', 'wf_samples', 'Input Terminal Configuration', 'NI_ChannelName', 'NI_UnitDescription', 'unit_string', 'Offset', 'Scale', 'Sensor Producer', 'Serial Number', 'Type']\n",
      "not_same\n",
      "['wf_start_time', 'wf_start_offset', 'wf_increment', 'wf_samples', 'Input Terminal Configuration', 'NI_ChannelName', 'NI_UnitDescription', 'unit_string', 'Offset', 'Scale', 'Sensor Producer', 'Serial Number', 'Type']\n",
      "not_same\n",
      "['wf_start_time', 'wf_start_offset', 'wf_increment', 'wf_samples', 'Input Terminal Configuration', 'NI_ChannelName', 'NI_UnitDescription', 'unit_string', 'Offset', 'Scale', 'Sensor Producer', 'Serial Number', 'Type']\n",
      "not_same\n",
      "['wf_start_time', 'wf_start_offset', 'wf_increment', 'wf_samples', 'Input Terminal Configuration', 'NI_ChannelName', 'NI_UnitDescription', 'unit_string', 'Offset', 'Scale', 'Sensor Producer', 'Serial Number', 'Type']\n",
      "not_same\n",
      "['wf_start_time', 'wf_start_offset', 'wf_increment', 'wf_samples', 'NI_ChannelName', 'NI_UnitDescription', 'unit_string', 'NI_dBReference', 'Sensitivity', 'Sensitivity Units', 'Sensor Producer', 'Serial Number', 'Type', 'Units']\n",
      "same\n",
      "['wf_start_time', 'wf_start_offset', 'wf_increment', 'wf_samples', 'NI_ChannelName', 'NI_UnitDescription', 'unit_string', 'NI_dBReference', 'Sensitivity', 'Sensitivity Units', 'Sensor Producer', 'Serial Number', 'Type', 'Units']\n",
      "same\n",
      "['wf_start_time', 'wf_start_offset', 'wf_increment', 'wf_samples', 'NI_ChannelName', 'NI_UnitDescription', 'unit_string', 'NI_dBReference', 'Sensitivity', 'Sensitivity Units', 'Sensor Producer', 'Serial Number', 'Type', 'Units']\n",
      "same\n"
     ]
    }
   ],
   "source": [
    "temp_list=[]\n",
    "for k in all_group_channels:\n",
    "    for l in k.properties.keys():\n",
    "        #index+=1\n",
    "        temp_list.append(l)    \n",
    "    print(temp_list)\n",
    "    if set(temp_list) == set(keys_list):\n",
    "        print(\"same\")\n",
    "    else:\n",
    "        print(\"not_same\")\n",
    "    temp_list=[]\n",
    "        \n",
    "    "
   ]
  },
  {
   "cell_type": "code",
   "execution_count": null,
   "id": "22a806cc",
   "metadata": {},
   "outputs": [],
   "source": [
    "temp_list=[]\n",
    "columns=[]\n",
    "columns.extend(keys_list)\n",
    "for k in all_group_channels:\n",
    "    for l in k.properties.keys():\n",
    "        if l not in columns:\n",
    "            columns.append(l)\n",
    "len(columns)"
   ]
  },
  {
   "cell_type": "code",
   "execution_count": null,
   "id": "200fa18c",
   "metadata": {},
   "outputs": [],
   "source": []
  },
  {
   "cell_type": "code",
   "execution_count": null,
   "id": "ce7c6d85",
   "metadata": {},
   "outputs": [],
   "source": [
    "df=pd.DataFrame(columns,columns=[\"Properties\"])\n"
   ]
  },
  {
   "cell_type": "code",
   "execution_count": null,
   "id": "fb5e29a6",
   "metadata": {},
   "outputs": [],
   "source": [
    "df"
   ]
  },
  {
   "cell_type": "code",
   "execution_count": null,
   "id": "d7aad571",
   "metadata": {},
   "outputs": [],
   "source": []
  },
  {
   "cell_type": "code",
   "execution_count": null,
   "id": "562813b2",
   "metadata": {},
   "outputs": [],
   "source": [
    "temp_list=[]\n",
    "#columns.extend(keys_list)\n",
    "count=0\n",
    "temp=pd.DataFrame(columns,columns=[\"Properties\"])\n",
    "#print(temp)\n",
    "for i in all_group_channels:\n",
    "    #print(i)\n",
    "    for j in i.properties.keys():\n",
    "        #print(j)\n",
    "        temp.loc[temp['Properties']==j,[channels_name[count]] ] = [i.properties[j]]\n",
    "    count+=1\n",
    "    \n"
   ]
  },
  {
   "cell_type": "code",
   "execution_count": null,
   "id": "8c26fa5b",
   "metadata": {},
   "outputs": [],
   "source": []
  },
  {
   "cell_type": "code",
   "execution_count": null,
   "id": "e91bcbd4",
   "metadata": {},
   "outputs": [],
   "source": [
    "columns"
   ]
  },
  {
   "cell_type": "code",
   "execution_count": null,
   "id": "d7b62b32",
   "metadata": {},
   "outputs": [],
   "source": []
  },
  {
   "cell_type": "code",
   "execution_count": null,
   "id": "8cb441b4",
   "metadata": {
    "scrolled": true
   },
   "outputs": [],
   "source": [
    "temp"
   ]
  },
  {
   "cell_type": "code",
   "execution_count": null,
   "id": "15306b67",
   "metadata": {},
   "outputs": [],
   "source": [
    "temp.to_csv('h12_1_dpl_properties.csv')"
   ]
  },
  {
   "cell_type": "code",
   "execution_count": null,
   "id": "ec519601",
   "metadata": {},
   "outputs": [],
   "source": [
    "def to_csv(file,f_path,name):\n",
    "    all_groups = file.groups()\n",
    "    group_name=[]\n",
    "    error=0\n",
    "    for group in file.groups():\n",
    "        if group.name==\"D\\nPL\":\n",
    "            group_name.append(\"PL\")\n",
    "            error=1\n",
    "        else:\n",
    "            group_name.append(group.name)\n",
    "        \n",
    "    for g in group_name:\n",
    "        if error==1 and g==\"PL\":\n",
    "            temp_g=\"D\\nPL\"\n",
    "            group=file[temp_g]\n",
    "        else:\n",
    "            group=file[g]\n",
    "        \n",
    "            \n",
    "        all_group_channels = group.channels()\n",
    "        channels_name=[]\n",
    "        for channel in group.channels():\n",
    "            channels_name.append(channel.name)\n",
    "            temp_list=[]\n",
    "        #columns.extend(keys_list)\n",
    "        count=0\n",
    "        temp=pd.DataFrame(columns,columns=[\"Properties\"])\n",
    "        #print(temp)\n",
    "        for i in all_group_channels:\n",
    "            #print(i)\n",
    "            for j in i.properties.keys():\n",
    "                #print(j)\n",
    "                temp.loc[temp['Properties']==j,[channels_name[count]] ] = [i.properties[j]]\n",
    "            count+=1\n",
    "        \n",
    "        f_path_=f_path.split(\"/\")[:-1]\n",
    "        n_path_=\"/\".join(f_path_)\n",
    "        path = n_path_+\"/\"+\"Properties\"+\"/\"+g\n",
    "        isExist = os.path.exists(path)\n",
    "        if not isExist:\n",
    "            print(path)\n",
    "            os.makedirs(path)\n",
    "        name_=path+\"/\"+name+\"_\"+g+\"_properties.csv\"\n",
    "        print(name_)\n",
    "        temp.to_csv(name_)\n",
    "    \n",
    "\n",
    "    "
   ]
  },
  {
   "cell_type": "code",
   "execution_count": null,
   "id": "f09fdf12",
   "metadata": {
    "scrolled": true
   },
   "outputs": [],
   "source": [
    "current=\"..\"\n",
    "for path, subdirs, files in os.walk(current):\n",
    "    for name in files:\n",
    "        if 'ref' in path or name[0:1] == \".\":\n",
    "            continue\n",
    "        if name.endswith(\".tdms\"):\n",
    "            name_=os.path.join(path, name)\n",
    "            split_name_=name_.split(\".tdms\")[0]\n",
    "            t_file_ = TdmsFile.read(name_)\n",
    "            n_=split_name_.split(\"/\")[-1]\n",
    "            to_csv(t_file_,split_name_,n_)\n",
    "        \n",
    "        "
   ]
  }
 ],
 "metadata": {
  "kernelspec": {
   "display_name": "Python 3 (ipykernel)",
   "language": "python",
   "name": "python3"
  },
  "language_info": {
   "codemirror_mode": {
    "name": "ipython",
    "version": 3
   },
   "file_extension": ".py",
   "mimetype": "text/x-python",
   "name": "python",
   "nbconvert_exporter": "python",
   "pygments_lexer": "ipython3",
   "version": "3.9.7"
  }
 },
 "nbformat": 4,
 "nbformat_minor": 5
}
